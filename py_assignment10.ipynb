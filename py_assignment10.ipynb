{
 "cells": [
  {
   "cell_type": "code",
   "execution_count": 6,
   "id": "3771f1cb",
   "metadata": {},
   "outputs": [
    {
     "name": "stdout",
     "output_type": "stream",
     "text": [
      "('Akankshya', 53, False, 2.6)\n"
     ]
    }
   ],
   "source": [
    "newtuple=(\"Akankshya\",53,False,2.6)\n",
    "print(newtuple)"
   ]
  },
  {
   "cell_type": "code",
   "execution_count": 2,
   "id": "338cacfd",
   "metadata": {},
   "outputs": [
    {
     "name": "stdout",
     "output_type": "stream",
     "text": [
      "(['hii', 'hello', 'pan'], [True, False], [1.3, 3.7, 8.2], [1, 2, 3, 4])\n"
     ]
    }
   ],
   "source": [
    "a=[\"hii\",\"hello\",\"pan\"]\n",
    "b=[True,False]\n",
    "c=[1.3,3.7,8.2]\n",
    "d=[1,2,3,4]\n",
    "tuple2=(a,b,c,d)\n",
    "print(tuple2)"
   ]
  },
  {
   "cell_type": "code",
   "execution_count": 13,
   "id": "97dbefc2",
   "metadata": {},
   "outputs": [
    {
     "name": "stdout",
     "output_type": "stream",
     "text": [
      "hii i am karan\n",
      "hello i am rosey\n",
      "hey i am bhumi\n"
     ]
    }
   ],
   "source": [
    "x= [\"hii\",\"hello\",\"hey\"]\n",
    "y=[\"karan\",\"rosey\",\"bhumi\",\"nupur\"]\n",
    "for x,y in zip(x,y):\n",
    "    print(x,'i am',y)\n"
   ]
  },
  {
   "cell_type": "code",
   "execution_count": 24,
   "id": "b296b512",
   "metadata": {},
   "outputs": [],
   "source": [
    "x= [\"1\",\"2\",\"3\"]\n",
    "y=[\"rose\",\"lily\",\"orchid\",\"sunflower\"]"
   ]
  },
  {
   "cell_type": "code",
   "execution_count": 26,
   "id": "a2325e74",
   "metadata": {},
   "outputs": [
    {
     "data": {
      "text/plain": [
       "[('1', 'rose'),\n",
       " ('1', 'lily'),\n",
       " ('1', 'orchid'),\n",
       " ('1', 'sunflower'),\n",
       " ('2', 'rose'),\n",
       " ('2', 'lily'),\n",
       " ('2', 'orchid'),\n",
       " ('2', 'sunflower'),\n",
       " ('3', 'rose'),\n",
       " ('3', 'lily'),\n",
       " ('3', 'orchid'),\n",
       " ('3', 'sunflower')]"
      ]
     },
     "execution_count": 26,
     "metadata": {},
     "output_type": "execute_result"
    }
   ],
   "source": [
    "[(i,j) for i in x for j in y]"
   ]
  },
  {
   "cell_type": "code",
   "execution_count": 27,
   "id": "32d4d1bb",
   "metadata": {},
   "outputs": [
    {
     "name": "stdout",
     "output_type": "stream",
     "text": [
      "rose\n",
      "lily\n",
      "orchid\n",
      "Here is orchid\n"
     ]
    }
   ],
   "source": [
    "new=[\"rose\",\"lily\",\"orchid\",\"sunflower\"]\n",
    "for i in new:\n",
    "    print(i)\n",
    "    if i==\"orchid\":\n",
    "        print(\"Here is orchid\")\n",
    "        break"
   ]
  },
  {
   "cell_type": "code",
   "execution_count": 30,
   "id": "9c99132a",
   "metadata": {},
   "outputs": [
    {
     "name": "stdout",
     "output_type": "stream",
     "text": [
      "rose\n",
      "lily\n",
      "orchid\n",
      "sunflower\n",
      "iterate all over the list,found no iris\n"
     ]
    }
   ],
   "source": [
    "for i in new:\n",
    "    print(i)\n",
    "    if i==\"iris\":\n",
    "        break\n",
    "else:\n",
    "    print(\"iterate all over the list,found no iris\")\n",
    "    "
   ]
  },
  {
   "cell_type": "code",
   "execution_count": null,
   "id": "42b01668",
   "metadata": {},
   "outputs": [],
   "source": []
  }
 ],
 "metadata": {
  "kernelspec": {
   "display_name": "Python 3 (ipykernel)",
   "language": "python",
   "name": "python3"
  },
  "language_info": {
   "codemirror_mode": {
    "name": "ipython",
    "version": 3
   },
   "file_extension": ".py",
   "mimetype": "text/x-python",
   "name": "python",
   "nbconvert_exporter": "python",
   "pygments_lexer": "ipython3",
   "version": "3.9.7"
  }
 },
 "nbformat": 4,
 "nbformat_minor": 5
}
